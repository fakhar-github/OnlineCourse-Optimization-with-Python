{
 "cells": [
  {
   "cell_type": "code",
   "execution_count": 1,
   "metadata": {},
   "outputs": [],
   "source": [
    "import pyomo.environ as pyo\n",
    "from pyomo.environ import cos, sin, maximize, minimize\n",
    "from pyomo.opt import SolverFactory"
   ]
  },
  {
   "cell_type": "markdown",
   "metadata": {},
   "source": [
    "#### Example 1"
   ]
  },
  {
   "cell_type": "code",
   "execution_count": 2,
   "metadata": {},
   "outputs": [],
   "source": [
    "model = pyo.ConcreteModel()\n",
    "model.x = pyo.Var(bounds = (-5, 5))\n",
    "model.y = pyo.Var(bounds = (-5, 5))\n",
    "x = model.x\n",
    "y = model.y"
   ]
  },
  {
   "cell_type": "code",
   "execution_count": 3,
   "metadata": {},
   "outputs": [
    {
     "name": "stdout",
     "output_type": "stream",
     "text": [
      "2 Var Declarations\n",
      "    x : Size=1, Index=None\n",
      "        Key  : Lower : Value                : Upper : Fixed : Stale : Domain\n",
      "        None :    -5 : -0.49999999790726224 :     5 : False : False :  Reals\n",
      "    y : Size=1, Index=None\n",
      "        Key  : Lower : Value : Upper : Fixed : Stale : Domain\n",
      "        None :    -5 :   0.0 :     5 : False : False :  Reals\n",
      "\n",
      "1 Objective Declarations\n",
      "    obj : Size=1, Index=None, Active=True\n",
      "        Key  : Active : Sense    : Expression\n",
      "        None :   True : maximize : cos(x + 1) + cos(x)*cos(y)\n",
      "\n",
      "3 Declarations: x y obj\n"
     ]
    }
   ],
   "source": [
    "objective = cos(x+1) + cos(x)*cos(y)\n",
    "model.obj = pyo.Objective(expr = objective, sense = maximize)\n",
    "opt = SolverFactory('ipopt')\n",
    "opt.options['tol'] = 1e-6\n",
    "opt.solve(model)\n",
    "model.pprint()"
   ]
  },
  {
   "cell_type": "code",
   "execution_count": 4,
   "metadata": {},
   "outputs": [
    {
     "name": "stdout",
     "output_type": "stream",
     "text": [
      "x : Size=1, Index=None\n",
      "    Key  : Lower : Value                : Upper : Fixed : Stale : Domain\n",
      "    None :    -5 : -0.49999999790726224 :     5 : False : False :  Reals\n"
     ]
    }
   ],
   "source": [
    "model.x.pprint()"
   ]
  },
  {
   "cell_type": "code",
   "execution_count": 5,
   "metadata": {},
   "outputs": [
    {
     "name": "stdout",
     "output_type": "stream",
     "text": [
      "y : Size=1, Index=None\n",
      "    Key  : Lower : Value : Upper : Fixed : Stale : Domain\n",
      "    None :    -5 :   0.0 :     5 : False : False :  Reals\n"
     ]
    }
   ],
   "source": [
    "model.y.pprint()"
   ]
  },
  {
   "cell_type": "code",
   "execution_count": 6,
   "metadata": {},
   "outputs": [
    {
     "data": {
      "text/plain": [
       "1.7551651237807455"
      ]
     },
     "execution_count": 6,
     "metadata": {},
     "output_type": "execute_result"
    }
   ],
   "source": [
    "pyo.value(model.obj)"
   ]
  }
 ],
 "metadata": {
  "kernelspec": {
   "display_name": "Finance",
   "language": "python",
   "name": "python3"
  },
  "language_info": {
   "codemirror_mode": {
    "name": "ipython",
    "version": 3
   },
   "file_extension": ".py",
   "mimetype": "text/x-python",
   "name": "python",
   "nbconvert_exporter": "python",
   "pygments_lexer": "ipython3",
   "version": "3.9.19"
  }
 },
 "nbformat": 4,
 "nbformat_minor": 2
}
