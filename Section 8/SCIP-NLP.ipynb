{
 "cells": [
  {
   "cell_type": "markdown",
   "metadata": {},
   "source": [
    "#### Pyscipopt\n",
    "Advantage of using Pyscipopt is you do not need to choose the solver. It will automatically chose it for you and it is easy to change it to Non-Linear Problems. \n",
    "\n",
    "The downside is you can not use commercial solver like Gurobi, CPLEX etc"
   ]
  },
  {
   "cell_type": "code",
   "execution_count": 1,
   "metadata": {},
   "outputs": [],
   "source": [
    "import pyscipopt\n",
    "from pyscipopt import Model"
   ]
  },
  {
   "cell_type": "code",
   "execution_count": 2,
   "metadata": {},
   "outputs": [
    {
     "data": {
      "text/plain": [
       "c8"
      ]
     },
     "execution_count": 2,
     "metadata": {},
     "output_type": "execute_result"
    }
   ],
   "source": [
    "model = Model('example')\n",
    "x = model.addVar('x', vtype='INTEGER')\n",
    "y = model.addVar('y')\n",
    "z = model.addVar('z')\n",
    "model.setObjective(z, sense = 'maximize')\n",
    "model.addCons(z == x + y * x)\n",
    "model.addCons(-x + 2*y*x <= 7)\n",
    "model.addCons(2*x + y <= 14)\n",
    "model.addCons(2*x - y <= 10)\n",
    "model.addCons(0 <= x)\n",
    "model.addCons(0 <= y)\n",
    "model.addCons(x <= 10)\n",
    "model.addCons(y <= 10)"
   ]
  },
  {
   "cell_type": "code",
   "execution_count": 3,
   "metadata": {},
   "outputs": [
    {
     "name": "stdout",
     "output_type": "stream",
     "text": [
      "feasible solution found by trivial heuristic after 0.0 seconds, objective value 0.000000e+00\n",
      "presolving:\n",
      "(round 1, fast)       0 del vars, 4 del conss, 0 add conss, 4 chg bounds, 0 chg sides, 0 chg coeffs, 0 upgd conss, 0 impls, 0 clqs\n",
      "(round 2, exhaustive) 0 del vars, 4 del conss, 0 add conss, 4 chg bounds, 0 chg sides, 0 chg coeffs, 2 upgd conss, 0 impls, 0 clqs\n",
      "   (0.0s) symmetry computation started: requiring (bin +, int +, cont +), (fixed: bin -, int -, cont -)\n",
      "   (0.0s) no symmetry present (symcode time: 0.00)\n",
      "presolving (3 rounds: 3 fast, 2 medium, 2 exhaustive):\n",
      " 0 deleted vars, 4 deleted constraints, 0 added constraints, 4 tightened bounds, 0 added holes, 0 changed sides, 0 changed coefficients\n",
      " 0 implications, 0 cliques\n",
      "presolved problem has 3 variables (0 bin, 1 int, 0 impl, 2 cont) and 4 constraints\n",
      "      2 constraints of type <varbound>\n",
      "      2 constraints of type <nonlinear>\n",
      "Presolving Time: 0.00\n",
      "transformed 1/1 original solutions to the transformed problem space\n",
      "\n",
      " time | node  | left  |LP iter|LP it/n|mem/heur|mdpt |vars |cons |rows |cuts |sepa|confs|strbr|  dualbound   | primalbound  |  gap   | compl. \n",
      "  0.0s|     1 |     0 |     4 |     - |   641k |   0 |   6 |   4 |   5 |   0 |  0 |   0 |   0 | 1.250000e+01 | 0.000000e+00 |    Inf | unknown\n",
      "  0.0s|     1 |     0 |     4 |     - |   641k |   0 |   6 |   4 |   5 |   0 |  0 |   0 |   0 | 1.250000e+01 | 0.000000e+00 |    Inf | unknown\n",
      "  0.0s|     1 |     0 |    15 |     - |   641k |   0 |   6 |   4 |   5 |   0 |  1 |   0 |   0 | 1.250000e+01 | 0.000000e+00 |    Inf | unknown\n",
      "  0.0s|     1 |     0 |    16 |     - |   641k |   0 |   6 |   4 |   6 |   1 |  2 |   0 |   0 | 1.211628e+01 | 0.000000e+00 |    Inf | unknown\n",
      "  0.0s|     1 |     0 |    18 |     - |   653k |   0 |   6 |   4 |   6 |   3 |  3 |   0 |   0 | 1.100000e+01 | 0.000000e+00 |    Inf | unknown\n",
      "  0.0s|     1 |     0 |    18 |     - |   653k |   0 |   6 |   4 |   5 |   3 |  3 |   0 |   0 | 1.100000e+01 | 0.000000e+00 |    Inf | unknown\n",
      "  0.0s|     1 |     0 |    19 |     - |   653k |   0 |   6 |   4 |   6 |   4 |  4 |   0 |   0 | 1.100000e+01 | 0.000000e+00 |    Inf | unknown\n",
      "  0.0s|     1 |     0 |    19 |     - |   653k |   0 |   6 |   3 |   6 |   4 |  5 |   0 |   0 | 1.100000e+01 | 0.000000e+00 |    Inf | unknown\n",
      "r 0.0s|     1 |     0 |    19 |     - |shifting|   0 |   6 |   3 |   6 |   4 |  6 |   0 |   0 | 1.100000e+01 | 1.100000e+01 |   0.00%| unknown\n",
      "  0.0s|     1 |     0 |    19 |     - |   653k |   0 |   6 |   3 |   6 |   4 |  6 |   0 |   0 | 1.100000e+01 | 1.100000e+01 |   0.00%| unknown\n",
      "\n",
      "SCIP Status        : problem is solved [optimal solution found]\n",
      "Solving Time (sec) : 0.01\n",
      "Solving Nodes      : 1\n",
      "Primal Bound       : +1.10000000010000e+01 (2 solutions)\n",
      "Dual Bound         : +1.10000000010000e+01\n",
      "Gap                : 0.00 %\n"
     ]
    }
   ],
   "source": [
    "model.optimize()\n",
    "solution = model.getBestSol()"
   ]
  },
  {
   "cell_type": "code",
   "execution_count": 4,
   "metadata": {},
   "outputs": [
    {
     "name": "stdout",
     "output_type": "stream",
     "text": [
      "x = 5.0\n",
      "y = 1.2000000002000002\n"
     ]
    }
   ],
   "source": [
    "print('x =', solution[x])\n",
    "print('y =', solution[y])"
   ]
  },
  {
   "cell_type": "code",
   "execution_count": 5,
   "metadata": {},
   "outputs": [
    {
     "data": {
      "text/plain": [
       "11.000000001"
      ]
     },
     "execution_count": 5,
     "metadata": {},
     "output_type": "execute_result"
    }
   ],
   "source": [
    "solution[z]"
   ]
  }
 ],
 "metadata": {
  "kernelspec": {
   "display_name": "Finance",
   "language": "python",
   "name": "python3"
  },
  "language_info": {
   "codemirror_mode": {
    "name": "ipython",
    "version": 3
   },
   "file_extension": ".py",
   "mimetype": "text/x-python",
   "name": "python",
   "nbconvert_exporter": "python",
   "pygments_lexer": "ipython3",
   "version": "3.9.19"
  }
 },
 "nbformat": 4,
 "nbformat_minor": 2
}
