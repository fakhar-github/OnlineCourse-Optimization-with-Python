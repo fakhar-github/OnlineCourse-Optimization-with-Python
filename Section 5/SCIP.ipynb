{
 "cells": [
  {
   "cell_type": "markdown",
   "metadata": {},
   "source": [
    "#### Pyscipopt\n",
    "Advantage of using Pyscipopt is you do not need to choose the solver. It will automatically chose it for you and it is easy to change it to Non-Linear Problems. \n",
    "\n",
    "The downside is you can not use commercial solver like Gurobi, CPLEX etc"
   ]
  },
  {
   "cell_type": "code",
   "execution_count": 1,
   "metadata": {},
   "outputs": [],
   "source": [
    "import pyscipopt\n",
    "from pyscipopt import Model"
   ]
  },
  {
   "cell_type": "code",
   "execution_count": 2,
   "metadata": {},
   "outputs": [
    {
     "data": {
      "text/plain": [
       "c7"
      ]
     },
     "execution_count": 2,
     "metadata": {},
     "output_type": "execute_result"
    }
   ],
   "source": [
    "model = Model('example')\n",
    "x = model.addVar('x')\n",
    "y = model.addVar('y')\n",
    "model.setObjective(x + y, sense = 'maximize')\n",
    "model.addCons(-x + 2*x*y <= 8)\n",
    "model.addCons(2*x + y <= 14)\n",
    "model.addCons(2*x - y <= 10)\n",
    "model.addCons(0 <= x)\n",
    "model.addCons(0 <= y)\n",
    "model.addCons(x <= 10)\n",
    "model.addCons(y <= 10)"
   ]
  },
  {
   "cell_type": "code",
   "execution_count": 3,
   "metadata": {},
   "outputs": [
    {
     "name": "stdout",
     "output_type": "stream",
     "text": [
      "feasible solution found by trivial heuristic after 0.0 seconds, objective value 0.000000e+00\n",
      "presolving:\n",
      "(round 1, fast)       0 del vars, 4 del conss, 0 add conss, 3 chg bounds, 0 chg sides, 0 chg coeffs, 0 upgd conss, 0 impls, 0 clqs\n",
      "   (0.0s) symmetry computation started: requiring (bin +, int +, cont +), (fixed: bin -, int -, cont -)\n",
      "   (0.0s) no symmetry present (symcode time: 0.00)\n",
      "presolving (2 rounds: 2 fast, 1 medium, 1 exhaustive):\n",
      " 0 deleted vars, 4 deleted constraints, 0 added constraints, 3 tightened bounds, 0 added holes, 0 changed sides, 0 changed coefficients\n",
      " 0 implications, 0 cliques\n",
      "presolved problem has 2 variables (0 bin, 0 int, 0 impl, 2 cont) and 3 constraints\n",
      "      2 constraints of type <linear>\n",
      "      1 constraints of type <nonlinear>\n",
      "Presolving Time: 0.00\n",
      "transformed 1/1 original solutions to the transformed problem space\n",
      "\n",
      " time | node  | left  |LP iter|LP it/n|mem/heur|mdpt |vars |cons |rows |cuts |sepa|confs|strbr|  dualbound   | primalbound  |  gap   | compl. \n",
      "  0.0s|     1 |     0 |     2 |     - |   620k |   0 |   4 |   3 |   3 |   0 |  0 |   0 |   0 | 1.200000e+01 | 0.000000e+00 |    Inf | unknown\n",
      "L 0.0s|     1 |     0 |     2 |     - |  subnlp|   0 |   4 |   3 |   3 |   0 |  0 |   0 |   0 | 1.200000e+01 | 6.820145e+00 |  75.95%| unknown\n",
      "  0.0s|     1 |     0 |     4 |     - |   622k |   0 |   4 |   3 |   4 |   1 |  1 |   0 |   0 | 1.042105e+01 | 6.820145e+00 |  52.80%| unknown\n",
      "  0.0s|     1 |     0 |    16 |     - |   622k |   0 |   4 |   2 |   4 |   1 |  2 |   0 |   0 | 1.042105e+01 | 6.820145e+00 |  52.80%| unknown\n",
      "L 0.0s|     1 |     0 |    16 |     - |  subnlp|   0 |   4 |   2 |   4 |   1 |  3 |   0 |   0 | 1.042105e+01 | 1.042105e+01 |   0.00%| unknown\n",
      "  0.0s|     1 |     0 |    16 |     - |   622k |   0 |   4 |   2 |   4 |   1 |  3 |   0 |   0 | 1.042105e+01 | 1.042105e+01 |   0.00%| unknown\n",
      "\n",
      "SCIP Status        : problem is solved [optimal solution found]\n",
      "Solving Time (sec) : 0.01\n",
      "Solving Nodes      : 1\n",
      "Primal Bound       : +1.04210527307787e+01 (3 solutions)\n",
      "Dual Bound         : +1.04210527307787e+01\n",
      "Gap                : 0.00 %\n"
     ]
    }
   ],
   "source": [
    "model.optimize()\n",
    "solution = model.getBestSol()"
   ]
  },
  {
   "cell_type": "code",
   "execution_count": 4,
   "metadata": {},
   "outputs": [
    {
     "name": "stdout",
     "output_type": "stream",
     "text": [
      "x = 0.42105263099431295\n",
      "y = 10.000000099784371\n"
     ]
    }
   ],
   "source": [
    "print('x =', solution[x])\n",
    "print('y =', solution[y])"
   ]
  }
 ],
 "metadata": {
  "kernelspec": {
   "display_name": ".venv",
   "language": "python",
   "name": "python3"
  },
  "language_info": {
   "codemirror_mode": {
    "name": "ipython",
    "version": 3
   },
   "file_extension": ".py",
   "mimetype": "text/x-python",
   "name": "python",
   "nbconvert_exporter": "python",
   "pygments_lexer": "ipython3",
   "version": "3.9.19"
  }
 },
 "nbformat": 4,
 "nbformat_minor": 2
}
