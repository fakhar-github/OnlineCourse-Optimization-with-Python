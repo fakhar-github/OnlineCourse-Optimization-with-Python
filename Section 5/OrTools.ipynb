{
 "cells": [
  {
   "cell_type": "markdown",
   "metadata": {},
   "source": [
    "#### OrTools\n",
    "Ortools is designed by Google and is very easy to use. To use different solvers, you can simply replace 'GLOP' with 'Solver_Name' and it will do the job. The draw back of using OrTools is, it is compatible with Linear Programming only."
   ]
  },
  {
   "cell_type": "code",
   "execution_count": 1,
   "metadata": {},
   "outputs": [],
   "source": [
    "from ortools.linear_solver import pywraplp"
   ]
  },
  {
   "cell_type": "code",
   "execution_count": 2,
   "metadata": {},
   "outputs": [
    {
     "data": {
      "text/plain": [
       "<ortools.linear_solver.pywraplp.Constraint; proxy of <Swig Object of type 'operations_research::MPConstraint *' at 0x1043f0060> >"
      ]
     },
     "execution_count": 2,
     "metadata": {},
     "output_type": "execute_result"
    }
   ],
   "source": [
    "solver = pywraplp.Solver.CreateSolver('GLOP')\n",
    "x = solver.NumVar(0, 10, 'x')\n",
    "y = solver.NumVar(0, 10, 'y')\n",
    "\n",
    "solver.Add(-x + 2*y<=8)\n",
    "solver.Add(2*x + y <= 14)\n",
    "solver.Add(2*x - y <= 10)"
   ]
  },
  {
   "cell_type": "code",
   "execution_count": 3,
   "metadata": {},
   "outputs": [
    {
     "name": "stdout",
     "output_type": "stream",
     "text": [
      "Optimal found\n",
      "x: 4.0\n",
      "y: 6.0\n"
     ]
    }
   ],
   "source": [
    "solver.Maximize(x+y)\n",
    "results = solver.Solve()\n",
    "if results == pywraplp.Solver.OPTIMAL:\n",
    "    print('Optimal found')\n",
    "print('x:', x.solution_value())\n",
    "print('y:', y.solution_value())"
   ]
  },
  {
   "cell_type": "code",
   "execution_count": null,
   "metadata": {},
   "outputs": [],
   "source": []
  }
 ],
 "metadata": {
  "kernelspec": {
   "display_name": ".venv",
   "language": "python",
   "name": "python3"
  },
  "language_info": {
   "codemirror_mode": {
    "name": "ipython",
    "version": 3
   },
   "file_extension": ".py",
   "mimetype": "text/x-python",
   "name": "python",
   "nbconvert_exporter": "python",
   "pygments_lexer": "ipython3",
   "version": "3.9.19"
  }
 },
 "nbformat": 4,
 "nbformat_minor": 2
}
