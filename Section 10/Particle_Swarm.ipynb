{
 "cells": [
  {
   "cell_type": "code",
   "execution_count": 1,
   "metadata": {},
   "outputs": [],
   "source": [
    "import numpy as np\n",
    "from pyswarm import pso"
   ]
  },
  {
   "cell_type": "code",
   "execution_count": 2,
   "metadata": {},
   "outputs": [],
   "source": [
    "def model_obj(x):\n",
    "    penalty = 0\n",
    "    x[0] = np.round(x[0], 0)\n",
    "    if not -x[0] + 2 * x[0] * x[1] <= 8:\n",
    "        penalty = np.inf\n",
    "        \n",
    "    if not 2 * x[0] + x[1] <= 14:\n",
    "        penalty = np.inf\n",
    "        \n",
    "    if not 2 * x[0] - x[1] <= 10:\n",
    "        penalty = np.inf\n",
    "        \n",
    "    return - (x[0] + x[1]*x[0]) + penalty"
   ]
  },
  {
   "cell_type": "code",
   "execution_count": 3,
   "metadata": {},
   "outputs": [],
   "source": [
    "def cons(x):\n",
    "    return []"
   ]
  },
  {
   "cell_type": "code",
   "execution_count": 4,
   "metadata": {},
   "outputs": [
    {
     "name": "stdout",
     "output_type": "stream",
     "text": [
      "Stopping search: Swarm best position change less than 1e-08\n"
     ]
    }
   ],
   "source": [
    "lb = [0, 0]\n",
    "ub = [10, 10]\n",
    "x0 = [0, 0]\n",
    "\n",
    "xopt, fopt = pso(model_obj, lb, ub, x0, cons)"
   ]
  },
  {
   "cell_type": "code",
   "execution_count": 7,
   "metadata": {},
   "outputs": [
    {
     "name": "stdout",
     "output_type": "stream",
     "text": [
      "x =  5.0\n",
      "y = 1.2999999715509991\n"
     ]
    }
   ],
   "source": [
    "print('x = ', xopt[0])\n",
    "print('y =', xopt[1])"
   ]
  },
  {
   "cell_type": "code",
   "execution_count": null,
   "metadata": {},
   "outputs": [],
   "source": []
  }
 ],
 "metadata": {
  "kernelspec": {
   "display_name": "Finance",
   "language": "python",
   "name": "python3"
  },
  "language_info": {
   "codemirror_mode": {
    "name": "ipython",
    "version": 3
   },
   "file_extension": ".py",
   "mimetype": "text/x-python",
   "name": "python",
   "nbconvert_exporter": "python",
   "pygments_lexer": "ipython3",
   "version": "3.9.19"
  }
 },
 "nbformat": 4,
 "nbformat_minor": 2
}
