{
 "cells": [
  {
   "cell_type": "markdown",
   "metadata": {},
   "source": [
    "#### Pyscipopt\n",
    "Advantage of using Pyscipopt is you do not need to choose the solver. It will automatically chose it for you and it is easy to change it to Non-Linear Problems. \n",
    "\n",
    "The downside is you can not use commercial solver like Gurobi, CPLEX etc"
   ]
  },
  {
   "cell_type": "code",
   "execution_count": 11,
   "metadata": {},
   "outputs": [],
   "source": [
    "import pyscipopt\n",
    "from pyscipopt import Model"
   ]
  },
  {
   "cell_type": "code",
   "execution_count": 12,
   "metadata": {},
   "outputs": [
    {
     "data": {
      "text/plain": [
       "c7"
      ]
     },
     "execution_count": 12,
     "metadata": {},
     "output_type": "execute_result"
    }
   ],
   "source": [
    "model = Model('example')\n",
    "x = model.addVar('x', vtype='INTEGER')\n",
    "y = model.addVar('y')\n",
    "model.setObjective(x + y, sense = 'maximize')\n",
    "model.addCons(-x + 2*y <= 7)\n",
    "model.addCons(2*x + y <= 14)\n",
    "model.addCons(2*x - y <= 10)\n",
    "model.addCons(0 <= x)\n",
    "model.addCons(0 <= y)\n",
    "model.addCons(x <= 10)\n",
    "model.addCons(y <= 10)"
   ]
  },
  {
   "cell_type": "code",
   "execution_count": 13,
   "metadata": {},
   "outputs": [
    {
     "name": "stdout",
     "output_type": "stream",
     "text": [
      "feasible solution found by trivial heuristic after 0.0 seconds, objective value 0.000000e+00\n",
      "presolving:\n",
      "(round 1, fast)       0 del vars, 4 del conss, 0 add conss, 3 chg bounds, 0 chg sides, 0 chg coeffs, 0 upgd conss, 0 impls, 0 clqs\n",
      "(round 2, fast)       0 del vars, 4 del conss, 0 add conss, 4 chg bounds, 0 chg sides, 0 chg coeffs, 0 upgd conss, 0 impls, 0 clqs\n",
      "(round 3, fast)       0 del vars, 4 del conss, 0 add conss, 5 chg bounds, 0 chg sides, 0 chg coeffs, 0 upgd conss, 0 impls, 0 clqs\n",
      "(round 4, exhaustive) 0 del vars, 4 del conss, 0 add conss, 5 chg bounds, 0 chg sides, 0 chg coeffs, 3 upgd conss, 0 impls, 0 clqs\n",
      "   (0.0s) symmetry computation started: requiring (bin +, int +, cont +), (fixed: bin -, int -, cont -)\n",
      "   (0.0s) no symmetry present (symcode time: 0.00)\n",
      "presolving (5 rounds: 5 fast, 2 medium, 2 exhaustive):\n",
      " 0 deleted vars, 4 deleted constraints, 0 added constraints, 5 tightened bounds, 0 added holes, 0 changed sides, 0 changed coefficients\n",
      " 0 implications, 0 cliques\n",
      "presolved problem has 2 variables (0 bin, 1 int, 0 impl, 1 cont) and 3 constraints\n",
      "      3 constraints of type <varbound>\n",
      "Presolving Time: 0.00\n",
      "\n",
      " time | node  | left  |LP iter|LP it/n|mem/heur|mdpt |vars |cons |rows |cuts |sepa|confs|strbr|  dualbound   | primalbound  |  gap   | compl. \n",
      "t 0.0s|     1 |     0 |     0 |     - | trivial|   0 |   2 |   3 |   0 |   0 |  0 |   0 |   0 | 1.400000e+01 | 3.000000e+00 | 366.67%| unknown\n",
      "p 0.0s|     1 |     0 |     0 |     - | vbounds|   0 |   2 |   3 |   3 |   0 |  0 |   0 |   0 | 1.400000e+01 | 8.000000e+00 |  75.00%| unknown\n",
      "i 0.0s|     1 |     0 |     0 |     - |  oneopt|   0 |   2 |   3 |   3 |   0 |  0 |   0 |   0 | 1.400000e+01 | 9.000000e+00 |  55.56%| unknown\n",
      "  0.0s|     1 |     0 |     2 |     - |   602k |   0 |   2 |   2 |   3 |   0 |  0 |   0 |   0 | 9.800000e+00 | 9.000000e+00 |   8.89%| unknown\n",
      "r 0.0s|     1 |     0 |     2 |     - |shifting|   0 |   2 |   2 |   3 |   0 |  0 |   0 |   0 | 9.800000e+00 | 9.000000e+00 |   8.89%| unknown\n",
      "  0.0s|     1 |     0 |     3 |     - |   605k |   0 |   2 |   2 |   4 |   1 |  1 |   0 |   0 | 9.500000e+00 | 9.000000e+00 |   5.56%| unknown\n",
      "L 0.0s|     1 |     0 |     3 |     - |    alns|   0 |   2 |   2 |   4 |   1 |  2 |   0 |   0 | 9.500000e+00 | 9.005000e+00 |   5.50%| unknown\n",
      "  0.0s|     1 |     0 |     3 |     - |   605k |   0 |   2 |   1 |   4 |   1 |  2 |   0 |   0 | 9.500000e+00 | 9.005000e+00 |   5.50%| unknown\n",
      "* 0.0s|     1 |     0 |     3 |     - |    LP  |   0 |   2 |   1 |   4 |   1 |  3 |   0 |   0 | 9.500000e+00 | 9.500000e+00 |   0.00%| unknown\n",
      "\n",
      "SCIP Status        : problem is solved [optimal solution found]\n",
      "Solving Time (sec) : 0.02\n",
      "Solving Nodes      : 1\n",
      "Primal Bound       : +9.50000000000000e+00 (7 solutions)\n",
      "Dual Bound         : +9.50000000000000e+00\n",
      "Gap                : 0.00 %\n"
     ]
    }
   ],
   "source": [
    "model.optimize()\n",
    "solution = model.getBestSol()"
   ]
  },
  {
   "cell_type": "code",
   "execution_count": 14,
   "metadata": {},
   "outputs": [
    {
     "name": "stdout",
     "output_type": "stream",
     "text": [
      "x = 4.0\n",
      "y = 5.5\n"
     ]
    }
   ],
   "source": [
    "print('x =', solution[x])\n",
    "print('y =', solution[y])"
   ]
  }
 ],
 "metadata": {
  "kernelspec": {
   "display_name": "Finance",
   "language": "python",
   "name": "python3"
  },
  "language_info": {
   "codemirror_mode": {
    "name": "ipython",
    "version": 3
   },
   "file_extension": ".py",
   "mimetype": "text/x-python",
   "name": "python",
   "nbconvert_exporter": "python",
   "pygments_lexer": "ipython3",
   "version": "3.9.19"
  }
 },
 "nbformat": 4,
 "nbformat_minor": 2
}
