{
 "cells": [
  {
   "cell_type": "code",
   "execution_count": 1,
   "metadata": {},
   "outputs": [],
   "source": [
    "import pyomo.environ as pyo\n",
    "from pyomo.environ import *\n",
    "from pyomo.opt import SolverFactory\n",
    "import numpy as np\n",
    "\n",
    "import pandas as pd"
   ]
  },
  {
   "cell_type": "code",
   "execution_count": 2,
   "metadata": {},
   "outputs": [
    {
     "name": "stdout",
     "output_type": "stream",
     "text": [
      "2 Var Declarations\n",
      "    x : Size=5, Index={1, 2, 3, 4, 5}\n",
      "        Key : Lower : Value : Upper : Fixed : Stale : Domain\n",
      "          1 :     0 :  None :  None : False :  True : Integers\n",
      "          2 :     0 :  None :  None : False :  True : Integers\n",
      "          3 :     0 :  None :  None : False :  True : Integers\n",
      "          4 :     0 :  None :  None : False :  True : Integers\n",
      "          5 :     0 :  None :  None : False :  True : Integers\n",
      "    y : Size=1, Index=None\n",
      "        Key  : Lower : Value : Upper : Fixed : Stale : Domain\n",
      "        None :     0 :  None :  None : False :  True :  Reals\n",
      "\n",
      "1 Objective Declarations\n",
      "    objective : Size=1, Index=None, Active=True\n",
      "        Key  : Active : Sense    : Expression\n",
      "        None :   True : minimize : x[1] + x[2] + x[3] + x[4] + x[5] + y\n",
      "\n",
      "4 Constraint Declarations\n",
      "    C1 : Size=1, Index=None, Active=True\n",
      "        Key  : Lower : Body                                 : Upper : Active\n",
      "        None :  -Inf : x[1] + x[2] + x[3] + x[4] + x[5] + y :  20.0 :   True\n",
      "    C2 : Size=5, Index={1, 2, 3, 4, 5}, Active=True\n",
      "        Key : Lower : Body     : Upper : Active\n",
      "          1 :  15.0 : x[1] + y :  +Inf :   True\n",
      "          2 :  15.0 : x[2] + y :  +Inf :   True\n",
      "          3 :  15.0 : x[3] + y :  +Inf :   True\n",
      "          4 :  15.0 : x[4] + y :  +Inf :   True\n",
      "          5 :  15.0 : x[5] + y :  +Inf :   True\n",
      "    C3 : Size=1, Index=None, Active=True\n",
      "        Key  : Lower : Body                                     : Upper : Active\n",
      "        None :  10.0 : x[1] + 2*x[2] + 3*x[3] + 4*x[4] + 5*x[5] :  +Inf :   True\n",
      "    C4 : Size=1, Index=None, Active=True\n",
      "        Key  : Lower : Body       : Upper : Active\n",
      "        None :  30.0 : x[5] + 2*y :  +Inf :   True\n",
      "\n",
      "7 Declarations: x y C1 C2 C3 C4 objective\n"
     ]
    }
   ],
   "source": [
    "model = pyo.ConcreteModel()\n",
    "x = model.x = pyo.Var(range(1,6), bounds = (0, np.inf), within = Integers)\n",
    "y = model.y = pyo.Var(bounds = (0, np.inf))\n",
    "model.C1 = pyo.Constraint(\n",
    "            expr = sum([x[i]\n",
    "                        for i in range(1,6)]) + y <= 20\n",
    "        )\n",
    "model.C2 = pyo.ConstraintList()\n",
    "for i in range(1,6):\n",
    "    model.C2.add(expr = x[i] + y >= 15)\n",
    "model.C3 = pyo.Constraint(\n",
    "            expr = sum([\n",
    "                i * x[i]\n",
    "                for i in range(1,6)\n",
    "            ]) >= 10\n",
    "        )\n",
    "model.C4 = pyo.Constraint(expr = x[5] + 2 * y >= 30)\n",
    "objective = sum([x[i]\n",
    "                for i in range(1,6)]) + y\n",
    "model.objective = pyo.Objective(\n",
    "                expr = objective\n",
    "            )\n",
    "model.pprint()"
   ]
  },
  {
   "cell_type": "code",
   "execution_count": 3,
   "metadata": {},
   "outputs": [
    {
     "data": {
      "text/plain": [
       "{'Problem': [{'Name': 'unknown', 'Lower bound': 17.0, 'Upper bound': 17.0, 'Number of objectives': 1, 'Number of constraints': 8, 'Number of variables': 6, 'Number of nonzeros': 23, 'Sense': 'minimize'}], 'Solver': [{'Status': 'ok', 'Termination condition': 'optimal', 'Statistics': {'Branch and bound': {'Number of bounded subproblems': '1', 'Number of created subproblems': '1'}}, 'Error rc': 0, 'Time': 0.008853912353515625}], 'Solution': [OrderedDict([('number of solutions', 0), ('number of solutions displayed', 0)])]}"
      ]
     },
     "execution_count": 3,
     "metadata": {},
     "output_type": "execute_result"
    }
   ],
   "source": [
    "opt = SolverFactory('glpk')\n",
    "opt.solve(model)"
   ]
  },
  {
   "cell_type": "code",
   "execution_count": 4,
   "metadata": {},
   "outputs": [
    {
     "name": "stdout",
     "output_type": "stream",
     "text": [
      "x : Size=5, Index={1, 2, 3, 4, 5}\n",
      "    Key : Lower : Value : Upper : Fixed : Stale : Domain\n",
      "      1 :     0 :   0.0 :  None : False : False : Integers\n",
      "      2 :     0 :   0.0 :  None : False : False : Integers\n",
      "      3 :     0 :   0.0 :  None : False : False : Integers\n",
      "      4 :     0 :   0.0 :  None : False : False : Integers\n",
      "      5 :     0 :   2.0 :  None : False : False : Integers\n"
     ]
    }
   ],
   "source": [
    "model.x.pprint()"
   ]
  },
  {
   "cell_type": "code",
   "execution_count": 5,
   "metadata": {},
   "outputs": [
    {
     "name": "stdout",
     "output_type": "stream",
     "text": [
      "y : Size=1, Index=None\n",
      "    Key  : Lower : Value : Upper : Fixed : Stale : Domain\n",
      "    None :     0 :  15.0 :  None : False : False :  Reals\n"
     ]
    }
   ],
   "source": [
    "model.y.pprint()"
   ]
  },
  {
   "cell_type": "code",
   "execution_count": 6,
   "metadata": {},
   "outputs": [
    {
     "data": {
      "text/plain": [
       "0.0"
      ]
     },
     "execution_count": 6,
     "metadata": {},
     "output_type": "execute_result"
    }
   ],
   "source": [
    "pyo.value(x[1])"
   ]
  },
  {
   "cell_type": "code",
   "execution_count": 7,
   "metadata": {},
   "outputs": [
    {
     "data": {
      "text/plain": [
       "17.0"
      ]
     },
     "execution_count": 7,
     "metadata": {},
     "output_type": "execute_result"
    }
   ],
   "source": [
    "pyo.value(model.objective)"
   ]
  },
  {
   "cell_type": "code",
   "execution_count": null,
   "metadata": {},
   "outputs": [],
   "source": []
  }
 ],
 "metadata": {
  "kernelspec": {
   "display_name": "Finance",
   "language": "python",
   "name": "python3"
  },
  "language_info": {
   "codemirror_mode": {
    "name": "ipython",
    "version": 3
   },
   "file_extension": ".py",
   "mimetype": "text/x-python",
   "name": "python",
   "nbconvert_exporter": "python",
   "pygments_lexer": "ipython3",
   "version": "3.9.19"
  }
 },
 "nbformat": 4,
 "nbformat_minor": 2
}
